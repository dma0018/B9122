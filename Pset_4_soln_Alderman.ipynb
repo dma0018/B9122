{
 "cells": [
  {
   "cell_type": "markdown",
   "metadata": {},
   "source": [
    "# David Alderman\n",
    "## Econometrics\n",
    "## Assignment #4"
   ]
  },
  {
   "cell_type": "code",
   "execution_count": 1,
   "metadata": {},
   "outputs": [],
   "source": [
    "import pandas as pd\n",
    "import matplotlib.pyplot as plt\n",
    "import numpy as np\n",
    "import math\n",
    "\n",
    "col_headers = ['f1','f2','f3','f4','f5','v1','v2','v3','v4','v5','h_income','choice']\n",
    "data = pd.read_csv('train_heating_2008.txt',sep='\\s+',names = col_headers)\n",
    "n = len(data)"
   ]
  },
  {
   "cell_type": "markdown",
   "metadata": {},
   "source": [
    "# Part A"
   ]
  },
  {
   "cell_type": "code",
   "execution_count": 2,
   "metadata": {},
   "outputs": [],
   "source": [
    "mean_by_variable = data.mean()\n",
    "std_by_variable = (data.var())**.5\n",
    "col_names = ['Mean','Std Dev']\n",
    "mean_std = pd.concat([mean_by_variable,std_by_variable],axis=1)\n",
    "mean_std.columns = col_names"
   ]
  },
  {
   "cell_type": "markdown",
   "metadata": {},
   "source": [
    "### Part A - Mean"
   ]
  },
  {
   "cell_type": "code",
   "execution_count": 3,
   "metadata": {},
   "outputs": [
    {
     "data": {
      "text/html": [
       "<div>\n",
       "<style scoped>\n",
       "    .dataframe tbody tr th:only-of-type {\n",
       "        vertical-align: middle;\n",
       "    }\n",
       "\n",
       "    .dataframe tbody tr th {\n",
       "        vertical-align: top;\n",
       "    }\n",
       "\n",
       "    .dataframe thead th {\n",
       "        text-align: right;\n",
       "    }\n",
       "</style>\n",
       "<table border=\"1\" class=\"dataframe\">\n",
       "  <thead>\n",
       "    <tr style=\"text-align: right;\">\n",
       "      <th></th>\n",
       "      <th>1</th>\n",
       "      <th>2</th>\n",
       "      <th>3</th>\n",
       "      <th>4</th>\n",
       "      <th>5</th>\n",
       "    </tr>\n",
       "  </thead>\n",
       "  <tbody>\n",
       "    <tr>\n",
       "      <th>Beta 1</th>\n",
       "      <td>3.3147</td>\n",
       "      <td>3.3695</td>\n",
       "      <td>3.5920</td>\n",
       "      <td>5.0332</td>\n",
       "      <td>0.777</td>\n",
       "    </tr>\n",
       "    <tr>\n",
       "      <th>Beta 2</th>\n",
       "      <td>0.4739</td>\n",
       "      <td>0.6568</td>\n",
       "      <td>0.3997</td>\n",
       "      <td>0.4739</td>\n",
       "      <td>0.413</td>\n",
       "    </tr>\n",
       "    <tr>\n",
       "      <th>Alpha 2</th>\n",
       "      <td>0.0000</td>\n",
       "      <td>1.0000</td>\n",
       "      <td>0.0000</td>\n",
       "      <td>0.0000</td>\n",
       "      <td>0.000</td>\n",
       "    </tr>\n",
       "    <tr>\n",
       "      <th>Alpha 3</th>\n",
       "      <td>0.0000</td>\n",
       "      <td>0.0000</td>\n",
       "      <td>1.0000</td>\n",
       "      <td>0.0000</td>\n",
       "      <td>0.000</td>\n",
       "    </tr>\n",
       "    <tr>\n",
       "      <th>Alpha 4</th>\n",
       "      <td>0.0000</td>\n",
       "      <td>0.0000</td>\n",
       "      <td>0.0000</td>\n",
       "      <td>1.0000</td>\n",
       "      <td>0.000</td>\n",
       "    </tr>\n",
       "    <tr>\n",
       "      <th>Alpha 5</th>\n",
       "      <td>0.0000</td>\n",
       "      <td>0.0000</td>\n",
       "      <td>0.0000</td>\n",
       "      <td>0.0000</td>\n",
       "      <td>1.000</td>\n",
       "    </tr>\n",
       "  </tbody>\n",
       "</table>\n",
       "</div>"
      ],
      "text/plain": [
       "              1       2       3       4      5\n",
       "Beta 1   3.3147  3.3695  3.5920  5.0332  0.777\n",
       "Beta 2   0.4739  0.6568  0.3997  0.4739  0.413\n",
       "Alpha 2  0.0000  1.0000  0.0000  0.0000  0.000\n",
       "Alpha 3  0.0000  0.0000  1.0000  0.0000  0.000\n",
       "Alpha 4  0.0000  0.0000  0.0000  1.0000  0.000\n",
       "Alpha 5  0.0000  0.0000  0.0000  0.0000  1.000"
      ]
     },
     "execution_count": 3,
     "metadata": {},
     "output_type": "execute_result"
    }
   ],
   "source": [
    "# Xi matrix below reflects the mean of each Xi, e.g. Xi1, Xi2, Xi3, etc.\n",
    "# row is the coefficient\n",
    "# column is j choice\n",
    "Xi_mean_matrix = np.zeros((6,5))\n",
    "for i in range(5):\n",
    "    Xi_mean_matrix[0,i] = mean_std.iloc[i,0]\n",
    "    Xi_mean_matrix[1,i] = mean_std.iloc[i+5,0]\n",
    "    if i > 0:\n",
    "        Xi_mean_matrix[i+1,i] = 1\n",
    "\n",
    "index = ['Beta 1','Beta 2','Alpha 2','Alpha 3','Alpha 4', 'Alpha 5'] \n",
    "col_names = ['1','2','3','4','5']\n",
    "mean_df = pd.DataFrame(data=Xi_mean_matrix,index=index,columns=col_names)\n",
    "mean_df.round(decimals=4)"
   ]
  },
  {
   "cell_type": "markdown",
   "metadata": {},
   "source": [
    "### Part A - Standard Deviation"
   ]
  },
  {
   "cell_type": "code",
   "execution_count": 4,
   "metadata": {},
   "outputs": [
    {
     "data": {
      "text/html": [
       "<div>\n",
       "<style scoped>\n",
       "    .dataframe tbody tr th:only-of-type {\n",
       "        vertical-align: middle;\n",
       "    }\n",
       "\n",
       "    .dataframe tbody tr th {\n",
       "        vertical-align: top;\n",
       "    }\n",
       "\n",
       "    .dataframe thead th {\n",
       "        text-align: right;\n",
       "    }\n",
       "</style>\n",
       "<table border=\"1\" class=\"dataframe\">\n",
       "  <thead>\n",
       "    <tr style=\"text-align: right;\">\n",
       "      <th></th>\n",
       "      <th>1</th>\n",
       "      <th>2</th>\n",
       "      <th>3</th>\n",
       "      <th>4</th>\n",
       "      <th>5</th>\n",
       "    </tr>\n",
       "  </thead>\n",
       "  <tbody>\n",
       "    <tr>\n",
       "      <th>Beta 1</th>\n",
       "      <td>0.3472</td>\n",
       "      <td>0.3356</td>\n",
       "      <td>0.3416</td>\n",
       "      <td>0.5008</td>\n",
       "      <td>0.1177</td>\n",
       "    </tr>\n",
       "    <tr>\n",
       "      <th>Beta 2</th>\n",
       "      <td>0.0462</td>\n",
       "      <td>0.0693</td>\n",
       "      <td>0.0396</td>\n",
       "      <td>0.0462</td>\n",
       "      <td>0.0523</td>\n",
       "    </tr>\n",
       "    <tr>\n",
       "      <th>Alpha 2</th>\n",
       "      <td>0.0000</td>\n",
       "      <td>0.0000</td>\n",
       "      <td>0.0000</td>\n",
       "      <td>0.0000</td>\n",
       "      <td>0.0000</td>\n",
       "    </tr>\n",
       "    <tr>\n",
       "      <th>Alpha 3</th>\n",
       "      <td>0.0000</td>\n",
       "      <td>0.0000</td>\n",
       "      <td>0.0000</td>\n",
       "      <td>0.0000</td>\n",
       "      <td>0.0000</td>\n",
       "    </tr>\n",
       "    <tr>\n",
       "      <th>Alpha 4</th>\n",
       "      <td>0.0000</td>\n",
       "      <td>0.0000</td>\n",
       "      <td>0.0000</td>\n",
       "      <td>0.0000</td>\n",
       "      <td>0.0000</td>\n",
       "    </tr>\n",
       "    <tr>\n",
       "      <th>Alpha 5</th>\n",
       "      <td>0.0000</td>\n",
       "      <td>0.0000</td>\n",
       "      <td>0.0000</td>\n",
       "      <td>0.0000</td>\n",
       "      <td>0.0000</td>\n",
       "    </tr>\n",
       "  </tbody>\n",
       "</table>\n",
       "</div>"
      ],
      "text/plain": [
       "              1       2       3       4       5\n",
       "Beta 1   0.3472  0.3356  0.3416  0.5008  0.1177\n",
       "Beta 2   0.0462  0.0693  0.0396  0.0462  0.0523\n",
       "Alpha 2  0.0000  0.0000  0.0000  0.0000  0.0000\n",
       "Alpha 3  0.0000  0.0000  0.0000  0.0000  0.0000\n",
       "Alpha 4  0.0000  0.0000  0.0000  0.0000  0.0000\n",
       "Alpha 5  0.0000  0.0000  0.0000  0.0000  0.0000"
      ]
     },
     "execution_count": 4,
     "metadata": {},
     "output_type": "execute_result"
    }
   ],
   "source": [
    "# Similar to Xi mean matrix above, Xi std dev matrix here relfects the standard deviation of each Xi, e.g. Xi1, Xi2, Xi3, etc.\n",
    "# row is the coefficient\n",
    "# column is j choice\n",
    "Xi_std_matrix = np.zeros((6,5))\n",
    "for i in range(5):\n",
    "    Xi_std_matrix[0,i] = mean_std.iloc[i,1]\n",
    "    Xi_std_matrix[1,i] = mean_std.iloc[i+5,1]\n",
    "    \n",
    "std_df = pd.DataFrame(data=Xi_std_matrix,index=index,columns=col_names)\n",
    "std_df.round(decimals=4)"
   ]
  },
  {
   "cell_type": "markdown",
   "metadata": {},
   "source": [
    "# Part B"
   ]
  },
  {
   "cell_type": "markdown",
   "metadata": {},
   "source": [
    "### Applying equation below with given gamma vector"
   ]
  },
  {
   "cell_type": "markdown",
   "metadata": {},
   "source": [
    "$$\n",
    "L\\left ( \\gamma  \\right ) = \\prod_{i} \\prod_{j}(\\frac{exp(X_{ij}' \\gamma)}{\\sum_{j} \\exp(X_{ij}' \\gamma)})^{1_{Y_i = j}}\n",
    "$$"
   ]
  },
  {
   "cell_type": "code",
   "execution_count": 5,
   "metadata": {},
   "outputs": [
    {
     "name": "stdout",
     "output_type": "stream",
     "text": [
      "-453.4357\n"
     ]
    }
   ],
   "source": [
    "gamma = np.array([0.1,0.2,0.3,0.4,0.5,0.4]).T\n",
    "\n",
    "j = 6\n",
    "\n",
    "choice = np.array(data['choice'])\n",
    "X1 = np.matrix([np.array(data['f1']),np.array(data['v1']),np.zeros(n),np.zeros(n),np.zeros(n),np.zeros(n)]).T\n",
    "X2 = np.matrix([np.array(data['f2']),np.array(data['v2']),np.ones(n),np.zeros(n),np.zeros(n),np.zeros(n)]).T\n",
    "X3 = np.matrix([np.array(data['f3']),np.array(data['v3']),np.zeros(n),np.ones(n),np.zeros(n),np.zeros(n)]).T\n",
    "X4 = np.matrix([np.array(data['f4']),np.array(data['v4']),np.zeros(n),np.zeros(n),np.ones(n),np.zeros(n)]).T\n",
    "X5 = np.matrix([np.array(data['f5']),np.array(data['v5']),np.zeros(n),np.zeros(n),np.zeros(n),np.ones(n)]).T\n",
    "\n",
    "def log_likelihood(gamma):\n",
    "    output = 1\n",
    "\n",
    "    for i in range(n):\n",
    "        X = np.array([X1[i,:],X2[i,:],X3[i,:],X4[i,:],X5[i,:]])\n",
    "        exp_values = np.exp(np.array(X.dot(gamma)))\n",
    "        numerator = exp_values[int(choice[i])-1]\n",
    "        denominator = np.sum(exp_values)\n",
    "        output = output * numerator/denominator\n",
    "    output = math.log(output)\n",
    "\n",
    "    return output\n",
    "\n",
    "print(np.round(log_likelihood(gamma),4))"
   ]
  },
  {
   "cell_type": "markdown",
   "metadata": {},
   "source": [
    "# Part E"
   ]
  },
  {
   "cell_type": "markdown",
   "metadata": {},
   "source": [
    "#### Please note, this is Part E, not Part C. I had issues doing part E below C and D in my program. I believe this is an issue some copying of variables. Thank you for understanding.   "
   ]
  },
  {
   "cell_type": "markdown",
   "metadata": {},
   "source": [
    "##### Note, Part F is after Part D. Apologies for any confusion"
   ]
  },
  {
   "cell_type": "markdown",
   "metadata": {},
   "source": [
    "#### To compute the gamma hat vector, we minimize the negative log likelihood function. Effectively changing the defined function in Part A. Part A would output 453.43"
   ]
  },
  {
   "cell_type": "markdown",
   "metadata": {},
   "source": [
    "#### I use the scipy minimize function to do this. "
   ]
  },
  {
   "cell_type": "code",
   "execution_count": 6,
   "metadata": {},
   "outputs": [],
   "source": [
    "from scipy.optimize import minimize\n",
    "def neg_log_like(gamma):\n",
    "    likelihood = 1\n",
    "\n",
    "    for i in range(n):\n",
    "        X = np.array([X1[i,:],X2[i,:],X3[i,:],X4[i,:],X5[i,:]])\n",
    "        exp_values = np.exp(np.array(X.dot(gamma)))\n",
    "        numerator = exp_values[int(choice[i])-1]\n",
    "        denominator = np.sum(exp_values)\n",
    "        likelihood = likelihood * numerator/denominator\n",
    "    log_like = -math.log(likelihood)\n",
    "\n",
    "    return log_like"
   ]
  },
  {
   "cell_type": "markdown",
   "metadata": {},
   "source": [
    "#### Gamma vector estimation"
   ]
  },
  {
   "cell_type": "code",
   "execution_count": 7,
   "metadata": {},
   "outputs": [
    {
     "name": "stdout",
     "output_type": "stream",
     "text": [
      "Gamma Hat Vector:\n",
      "[ -2.6436 -21.8123  -0.5642  -3.1185   2.1758 -12.1638]\n"
     ]
    }
   ],
   "source": [
    "model = minimize(neg_log_like,gamma)\n",
    "\n",
    "gamma_hat = model.x\n",
    "gamma_hat = np.array(gamma_hat)\n",
    "print('Gamma Hat Vector:')\n",
    "print(np.round(gamma_hat,4))"
   ]
  },
  {
   "cell_type": "markdown",
   "metadata": {},
   "source": [
    "#### Standard error of estimation"
   ]
  },
  {
   "cell_type": "code",
   "execution_count": 8,
   "metadata": {},
   "outputs": [
    {
     "name": "stdout",
     "output_type": "stream",
     "text": [
      "Standard Error:\n",
      "[0.5237 4.0412 0.6794 0.4381 0.7984 1.562 ]\n"
     ]
    }
   ],
   "source": [
    "hess_inv = model.hess_inv\n",
    "std_err = np.diag(hess_inv)**0.5\n",
    "print('Standard Error:')\n",
    "print(np.round(std_err,4))"
   ]
  },
  {
   "cell_type": "markdown",
   "metadata": {},
   "source": [
    "# Part C"
   ]
  },
  {
   "cell_type": "markdown",
   "metadata": {},
   "source": [
    "#### Taking the derivative of the log likelihood function, we derive the first derivative equation below:"
   ]
  },
  {
   "cell_type": "markdown",
   "metadata": {},
   "source": [
    "$$\n",
    "\\frac{\\partial L\\left ( \\gamma  \\right )}{\\partial \\gamma} = \\sum_{i}\\sum_{j}1_{Y_{i} = j}\\left ( {X_{ij}' - \\frac{\\sum_{ij}X_{ij}exp\\left ( X_{ij}'\\gamma  \\right )}{\\sum_{ij}exp\\left ( X_{ij}'\\gamma  \\right )}} \\right )\\\n",
    "$$"
   ]
  },
  {
   "cell_type": "markdown",
   "metadata": {},
   "source": [
    "### Applying above with the given data and gamma vector"
   ]
  },
  {
   "cell_type": "code",
   "execution_count": 9,
   "metadata": {},
   "outputs": [
    {
     "name": "stdout",
     "output_type": "stream",
     "text": [
      "[-16.9934  -5.7331 -45.5277 -27.1614 -44.8915 -32.2401]\n"
     ]
    }
   ],
   "source": [
    "der_matrix = []\n",
    "for m in range (j):\n",
    "    derivative = 0\n",
    "    for i in range(len(data)):\n",
    "        X = np.zeros((j-1,j))\n",
    "        for k in range(j-1):\n",
    "            X[k][0] = data.iloc[i,k]\n",
    "            X[k][1] = data.iloc[i,k+5]\n",
    "            if k > 0:\n",
    "                X[k, k + 1] = 1\n",
    "        exp_values = np.exp(X.dot(gamma))\n",
    "        numerator = np.sum(X[:,m].dot(exp_values))\n",
    "        denominator = np.sum(exp_values)\n",
    "        derivative += X[int(choice[i])-1,m] - numerator / denominator\n",
    "\n",
    "    der_matrix.append(derivative)\n",
    "\n",
    "print(np.round(der_matrix,4))"
   ]
  },
  {
   "cell_type": "markdown",
   "metadata": {},
   "source": [
    "# Part D"
   ]
  },
  {
   "cell_type": "markdown",
   "metadata": {},
   "source": [
    "#### Taking the second derivative of the log likelihood function, we derive the second derivative equation below:"
   ]
  },
  {
   "cell_type": "markdown",
   "metadata": {},
   "source": [
    "$$\n",
    "\\frac{\\partial^2 L\\left ( \\gamma  \\right )}{\\partial \\gamma^2} = -\\sum_{i} \\sum_{j}\\frac{(\\sum_{j} X_{ij}' X_{ij}exp(X_{ij}' \\gamma)(\\sum_{j}X_{ij}' \\gamma))  - (\\sum_j X_{ij}exp(X_{ij}' \\gamma)(\\sum_j X_{ij}'exp(X_{ij}' \\gamma) }{\\sum_{j} \\exp(X_{ij}' \\gamma)} * 1_{Y_i = j}\n",
    "$$"
   ]
  },
  {
   "cell_type": "markdown",
   "metadata": {},
   "source": [
    "##### Using loop to numerically solve above equation"
   ]
  },
  {
   "cell_type": "code",
   "execution_count": 10,
   "metadata": {},
   "outputs": [
    {
     "name": "stdout",
     "output_type": "stream",
     "text": [
      "[[-472.9768   -5.1376    4.1741   -7.3609 -109.1099  107.4148]\n",
      " [  -5.1376   -2.3511   -8.5342    4.5238    0.7522    2.8764]\n",
      " [   4.1741   -8.5342  -39.5939   10.6603   13.8109    8.0683]\n",
      " [  -7.3609    4.5238   10.6603  -41.7168   14.8238    8.6606]\n",
      " [-109.1099    0.7522   13.8109   14.8238  -49.6633   11.2184]\n",
      " [ 107.4148    2.8764    8.0683    8.6606   11.2184  -33.6781]]\n"
     ]
    }
   ],
   "source": [
    "der2_matrix = np.zeros((j,j))\n",
    "for m in range (j):\n",
    "    for n in range(j):\n",
    "        der2 = 0\n",
    "        for i in range(len(data)):\n",
    "            X = np.zeros((j-1,j))\n",
    "            for k in range(j-1):\n",
    "                X[k][0] = data.iloc[i,k]\n",
    "                X[k][1] = data.iloc[i,k+5]\n",
    "                if k > 0:\n",
    "                    X[k, k + 1] = 1\n",
    "            exp_values = np.exp(X.dot(gamma))\n",
    "            num1,num2,num3,num4 = 0,0,0,0\n",
    "            for k in range(j-1):\n",
    "                num1 += X[k,m] * X[k,n] * exp_values[k]\n",
    "                num2 += exp_values[k]\n",
    "                num3 += X[k,m] * exp_values[k]\n",
    "                num4 += X[k,n] * exp_values[k]\n",
    "            sec_num = num1 * num2 - num3 * num4\n",
    "            sec_de = np.square(np.sum(exp_values))\n",
    "            der2 += -sec_num / sec_de\n",
    "\n",
    "        der2_matrix[m,n] = der2\n",
    "\n",
    "print(np.round(der2_matrix,4))"
   ]
  },
  {
   "cell_type": "markdown",
   "metadata": {},
   "source": [
    "# Part F"
   ]
  },
  {
   "cell_type": "markdown",
   "metadata": {},
   "source": [
    "#### Calculating P3 market share for current data and for a 10% reduction in installation costs"
   ]
  },
  {
   "cell_type": "markdown",
   "metadata": {},
   "source": [
    "#### Applying equation below"
   ]
  },
  {
   "cell_type": "markdown",
   "metadata": {},
   "source": [
    "$$\n",
    "\\hat{p}_3 = \\frac{1}{N} \\sum_i\\frac{exp(X_{i3}' \\hat{\\gamma})}{\\sum_jexp(X_{ij}'\\hat{\\gamma})}\n",
    "$$"
   ]
  },
  {
   "cell_type": "code",
   "execution_count": 11,
   "metadata": {},
   "outputs": [],
   "source": [
    "# Defining function to calculate p hat\n",
    "def prob3(X3,gamma,n):\n",
    "    p3 = 0\n",
    "    choice = 3\n",
    "    for i in range(n):\n",
    "        X = np.array([X1[i, :], X2[i, :], X3[i, :], X4[i, :], X5[i, :]])\n",
    "        exp_values = np.exp(np.array(X.dot(gamma)))\n",
    "        numerator = exp_values[choice-1]\n",
    "        denominator = np.sum(exp_values)\n",
    "        p3 += numerator / denominator\n",
    "    p3 = p3 / n\n",
    "    return p3"
   ]
  },
  {
   "cell_type": "code",
   "execution_count": 12,
   "metadata": {},
   "outputs": [],
   "source": [
    "# Given values and creating new installation costs columns for X3 matrix defined above\n",
    "n = len(data)\n",
    "IC3 = X3[:,0]\n",
    "IC3_reduction = 0.10\n",
    "IC3_new = IC3 * (1-IC3_reduction)\n",
    "X3_new = X3.copy()\n",
    "X3_new[:,0] = IC3_new"
   ]
  },
  {
   "cell_type": "code",
   "execution_count": 13,
   "metadata": {},
   "outputs": [
    {
     "name": "stdout",
     "output_type": "stream",
     "text": [
      "P3 at original:\n",
      "10.526%\n",
      "\n",
      "P3 at reduced:\n",
      "21.818%\n"
     ]
    }
   ],
   "source": [
    "# Evalating p 3 for original and new installation costs\n",
    "p3_original = prob3(X3,gamma_hat,n)\n",
    "print('P3 at original:')\n",
    "p3_original = p3_original * 100\n",
    "print('%0.3f%%' % p3_original)\n",
    "\n",
    "p3_new = prob3(X3_new,gamma_hat,n)\n",
    "print('\\n''P3 at reduced:')\n",
    "p3_new = p3_new * 100\n",
    "print('%0.3f%%' % p3_new)"
   ]
  },
  {
   "cell_type": "code",
   "execution_count": 14,
   "metadata": {},
   "outputs": [
    {
     "name": "stdout",
     "output_type": "stream",
     "text": [
      "Market Share change of when \n",
      "reducing installation costs by 10%:\n",
      "11.291%\n"
     ]
    }
   ],
   "source": [
    "# Calculating change\n",
    "delta = p3_new - p3_original\n",
    "delta.astype(np.float)\n",
    "print('Market Share change of when \\nreducing installation costs by 10%:')\n",
    "print('%0.3f%%' % delta)"
   ]
  },
  {
   "cell_type": "code",
   "execution_count": null,
   "metadata": {},
   "outputs": [],
   "source": []
  },
  {
   "cell_type": "code",
   "execution_count": null,
   "metadata": {},
   "outputs": [],
   "source": []
  },
  {
   "cell_type": "code",
   "execution_count": null,
   "metadata": {},
   "outputs": [],
   "source": []
  },
  {
   "cell_type": "code",
   "execution_count": null,
   "metadata": {},
   "outputs": [],
   "source": []
  },
  {
   "cell_type": "code",
   "execution_count": null,
   "metadata": {},
   "outputs": [],
   "source": []
  },
  {
   "cell_type": "code",
   "execution_count": null,
   "metadata": {},
   "outputs": [],
   "source": []
  }
 ],
 "metadata": {
  "kernelspec": {
   "display_name": "Python 3",
   "language": "python",
   "name": "python3"
  },
  "language_info": {
   "codemirror_mode": {
    "name": "ipython",
    "version": 3
   },
   "file_extension": ".py",
   "mimetype": "text/x-python",
   "name": "python",
   "nbconvert_exporter": "python",
   "pygments_lexer": "ipython3",
   "version": "3.8.5"
  }
 },
 "nbformat": 4,
 "nbformat_minor": 4
}
