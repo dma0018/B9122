{
 "cells": [
  {
   "cell_type": "markdown",
   "metadata": {},
   "source": [
    "# David Alderman\n",
    "## Econometrics\n",
    "## Assignment #4\n",
    "### Problem #2"
   ]
  },
  {
   "cell_type": "code",
   "execution_count": 1,
   "metadata": {},
   "outputs": [],
   "source": [
    "import pandas as pd\n",
    "import numpy as np"
   ]
  },
  {
   "cell_type": "code",
   "execution_count": 2,
   "metadata": {},
   "outputs": [],
   "source": [
    "col_headers = ['y1','y2','y3','y4','y5','y6','y7','y8','y9','y10','y11']\n",
    "df = pd.read_csv(r'C:\\Users\\david\\OneDrive\\Documents\\1a. Columbia MSFE\\2020.09_Intro_to_Econometrics\\psets\\Pset 5\\card_wage_2008.txt',\n",
    "                 sep='\\s+',names = col_headers)\n",
    "num_years = len(df.columns)"
   ]
  },
  {
   "cell_type": "markdown",
   "metadata": {},
   "source": [
    "# Part A"
   ]
  },
  {
   "cell_type": "markdown",
   "metadata": {},
   "source": [
    "### Discard individuals with a change in wages YoY by a factor of 10"
   ]
  },
  {
   "cell_type": "code",
   "execution_count": 3,
   "metadata": {},
   "outputs": [
    {
     "name": "stdout",
     "output_type": "stream",
     "text": [
      "Number of individuals post-discard:\n",
      "1302\n"
     ]
    }
   ],
   "source": [
    "factor_df = pd.DataFrame()\n",
    "for i in range(num_years-1): # loop to determine change in wages by factor (e.g. year 2 wages / year 1 wages)\n",
    "    yr_i = 'y' + str(i+1)\n",
    "    yr_i1 = 'y' + str(i+2)\n",
    "    factor_df[yr_i1 + '/' + yr_i] = df[yr_i1] / df[yr_i]\n",
    "\n",
    "factor_df['Row Max'] = factor_df.max(axis=1)\n",
    "factor_df['Row Min'] = factor_df.min(axis=1)\n",
    "max_factor = 10\n",
    "\n",
    "max_index = factor_df.loc[factor_df['Row Max'] > max_factor]\n",
    "min_index = factor_df.loc[factor_df['Row Min'] < 1/max_factor]\n",
    "min_max = pd.concat([max_index,min_index]).sort_index()\n",
    "min_max = min_max.loc[~min_max.index.duplicated(keep='first')]\n",
    "\n",
    "for row in min_max.index:\n",
    "    df = df.drop([row])\n",
    "print('Number of individuals post-discard:')\n",
    "print(len(df))"
   ]
  },
  {
   "cell_type": "markdown",
   "metadata": {},
   "source": [
    "# Part B"
   ]
  },
  {
   "cell_type": "markdown",
   "metadata": {},
   "source": [
    "Moments defined as:"
   ]
  },
  {
   "cell_type": "markdown",
   "metadata": {},
   "source": [
    "5 Moments"
   ]
  },
  {
   "cell_type": "markdown",
   "metadata": {},
   "source": [
    "$\n",
    "\\psi_{13} = Y_{i1}(Y_{i3} - Y_{i2} - \\theta (Y_{i2} - Y_{i1}))\n",
    "$"
   ]
  },
  {
   "cell_type": "markdown",
   "metadata": {},
   "source": [
    "$\n",
    "\\psi_{14} = \\begin{bmatrix}Y_{i1}\\\\Y_{i2}\\end{bmatrix}(Y_{i4} - Y_{i3} - \\theta(Y_{i3} - Y_{i2}))\n",
    "$"
   ]
  },
  {
   "cell_type": "markdown",
   "metadata": {},
   "source": [
    "$\n",
    "\\psi_{23} = (Y_{i2} - Y_{i1}) * (Y_{i3} - \\theta Y_{i2})\n",
    "$"
   ]
  },
  {
   "cell_type": "markdown",
   "metadata": {},
   "source": [
    "$\n",
    "\\psi_{24} = (Y_{i3} - Y_{i2}) * (Y_{i4} - \\theta Y_{i3})\n",
    "$"
   ]
  },
  {
   "cell_type": "markdown",
   "metadata": {},
   "source": [
    "# Part C"
   ]
  },
  {
   "cell_type": "markdown",
   "metadata": {},
   "source": [
    "Derivative of each moment defined as:"
   ]
  },
  {
   "cell_type": "markdown",
   "metadata": {},
   "source": [
    "$\n",
    "\\frac{d\\psi_{13}}{d \\theta} = - Y_{i1} (Y_{i3} - Y_{i2})\n",
    "$"
   ]
  },
  {
   "cell_type": "markdown",
   "metadata": {},
   "source": [
    "$\n",
    "\\frac{d\\psi_{14}}{d \\theta} = - \\begin{bmatrix}Y_{i1}\\\\Y_{i2}\\end{bmatrix}(Y_{i3} - Y_{i2})\n",
    "$"
   ]
  },
  {
   "cell_type": "markdown",
   "metadata": {},
   "source": [
    "$\n",
    "\\frac{d\\psi_{23}}{d \\theta} = - Y_{i2} (Y_{i2} - Y_{i1})\n",
    "$"
   ]
  },
  {
   "cell_type": "markdown",
   "metadata": {},
   "source": [
    "$\n",
    "\\frac{d\\psi_{24}}{d \\theta} = - Y_{i3} (Y_{i3} - Y_{i2})\n",
    "$"
   ]
  },
  {
   "cell_type": "markdown",
   "metadata": {},
   "source": [
    "# Part D"
   ]
  },
  {
   "cell_type": "code",
   "execution_count": 4,
   "metadata": {},
   "outputs": [],
   "source": [
    "theta = 0.3\n",
    "# Moment functions (ordered same as above)\n",
    "def moments(theta):\n",
    "    M1 = df.iloc[:,0] * (df.iloc[:,2] - df.iloc[:,1] - theta * (df.iloc[:,1] - df.iloc[:,0]))\n",
    "    M2 = df.iloc[:,0] * (df.iloc[:,3] - df.iloc[:,2] - theta * (df.iloc[:,2] - df.iloc[:,1]))\n",
    "    M3 = df.iloc[:,1] * (df.iloc[:,3] - df.iloc[:,2] - theta * (df.iloc[:,2] - df.iloc[:,1]))\n",
    "    M4 = (df.iloc[:,1] - df.iloc[:,0]) * (df.iloc[:,2] - theta * df.iloc[:,1])\n",
    "    M5 = (df.iloc[:,2] - df.iloc[:,1]) * (df.iloc[:,3] - theta * df.iloc[:,2])\n",
    "    return np.matrix([M1,M2,M3,M4,M5])\n",
    "\n",
    "M = moments(theta)\n",
    "M = M.mean(axis=1)"
   ]
  },
  {
   "cell_type": "code",
   "execution_count": 5,
   "metadata": {},
   "outputs": [
    {
     "name": "stdout",
     "output_type": "stream",
     "text": [
      "Average of each Moment:\n",
      "          @theta=0.3\n",
      "psi_13      0.409843\n",
      "psi_14_0    0.666327\n",
      "psi_14_1    0.747435\n",
      "psi_23      0.379638\n",
      "psi_24      0.729407\n"
     ]
    }
   ],
   "source": [
    "print('Average of each Moment:')\n",
    "moment_list = ['psi_13','psi_14_0','psi_14_1','psi_23','psi_24']\n",
    "M_df = pd.DataFrame(data=M,index=moment_list,columns=['@theta=0.3'])\n",
    "print(M_df) "
   ]
  },
  {
   "cell_type": "markdown",
   "metadata": {},
   "source": [
    "# Part E"
   ]
  },
  {
   "cell_type": "markdown",
   "metadata": {},
   "source": [
    "Evaluate objective function at theta = 0.3"
   ]
  },
  {
   "cell_type": "code",
   "execution_count": 6,
   "metadata": {},
   "outputs": [
    {
     "name": "stdout",
     "output_type": "stream",
     "text": [
      "1.8467823652952895\n"
     ]
    }
   ],
   "source": [
    "I  = np.identity(5)\n",
    "def obj_f(theta):\n",
    "    M = moments(theta)\n",
    "    M = M.mean(axis=1)\n",
    "    M_T = M.T\n",
    "    Q = np.sum((M_T.dot(I)).dot(M))\n",
    "    return Q\n",
    "print(obj_f(theta))"
   ]
  },
  {
   "cell_type": "markdown",
   "metadata": {},
   "source": [
    "# Part F"
   ]
  },
  {
   "cell_type": "markdown",
   "metadata": {},
   "source": [
    "Evaluate derivative of moment function"
   ]
  },
  {
   "cell_type": "markdown",
   "metadata": {},
   "source": [
    "dQ = 2 (M1 * dM1 + M2 * dM2 + M3 * dM3 + M4 * dM4 + M5 * dM5)"
   ]
  },
  {
   "cell_type": "code",
   "execution_count": 7,
   "metadata": {},
   "outputs": [
    {
     "name": "stdout",
     "output_type": "stream",
     "text": [
      "-2.740291419731106\n"
     ]
    }
   ],
   "source": [
    "dM1 = - df.iloc[:,0] * (df.iloc[:,1] - df.iloc[:,0])\n",
    "dM2 = - df.iloc[:,0] * (df.iloc[:,2] - df.iloc[:,1])\n",
    "dM3 = - df.iloc[:,1] * (df.iloc[:,2] - df.iloc[:,1])\n",
    "dM4 = - df.iloc[:,1] * (df.iloc[:,1] - df.iloc[:,0])\n",
    "dM5 = - df.iloc[:,2] * (df.iloc[:,2] - df.iloc[:,1])\n",
    "dM = np.matrix([dM1,dM2,dM3,dM4,dM5]).mean(axis=1)\n",
    "\n",
    "M = moments(theta)\n",
    "M = M.mean(axis=1)\n",
    "\n",
    "dQ = 2 * (M.T.dot(dM))\n",
    "print(dQ.sum())"
   ]
  },
  {
   "cell_type": "markdown",
   "metadata": {},
   "source": [
    "# Part G"
   ]
  },
  {
   "cell_type": "markdown",
   "metadata": {},
   "source": [
    "Minimize the objective function and report the estimate"
   ]
  },
  {
   "cell_type": "code",
   "execution_count": 8,
   "metadata": {},
   "outputs": [
    {
     "name": "stdout",
     "output_type": "stream",
     "text": [
      "[0.62720509]\n"
     ]
    }
   ],
   "source": [
    "from scipy.optimize import minimize\n",
    "\n",
    "model = minimize(obj_f,theta)\n",
    "\n",
    "theta_hat = model.x\n",
    "print(theta_hat)"
   ]
  },
  {
   "cell_type": "markdown",
   "metadata": {},
   "source": [
    "# Part H"
   ]
  },
  {
   "cell_type": "markdown",
   "metadata": {},
   "source": [
    "Using the estimated value of \u0012, estimate the optimal weight matrix."
   ]
  },
  {
   "cell_type": "code",
   "execution_count": 9,
   "metadata": {},
   "outputs": [
    {
     "data": {
      "text/html": [
       "<div>\n",
       "<style scoped>\n",
       "    .dataframe tbody tr th:only-of-type {\n",
       "        vertical-align: middle;\n",
       "    }\n",
       "\n",
       "    .dataframe tbody tr th {\n",
       "        vertical-align: top;\n",
       "    }\n",
       "\n",
       "    .dataframe thead th {\n",
       "        text-align: right;\n",
       "    }\n",
       "</style>\n",
       "<table border=\"1\" class=\"dataframe\">\n",
       "  <thead>\n",
       "    <tr style=\"text-align: right;\">\n",
       "      <th></th>\n",
       "      <th>psi_13</th>\n",
       "      <th>psi_14_0</th>\n",
       "      <th>psi_14_1</th>\n",
       "      <th>psi_23</th>\n",
       "      <th>psi_24</th>\n",
       "    </tr>\n",
       "  </thead>\n",
       "  <tbody>\n",
       "    <tr>\n",
       "      <th>psi_13</th>\n",
       "      <td>0.020683</td>\n",
       "      <td>-0.020770</td>\n",
       "      <td>0.032470</td>\n",
       "      <td>0.050609</td>\n",
       "      <td>-0.012973</td>\n",
       "    </tr>\n",
       "    <tr>\n",
       "      <th>psi_14_0</th>\n",
       "      <td>-0.020770</td>\n",
       "      <td>0.073261</td>\n",
       "      <td>-0.087136</td>\n",
       "      <td>-0.091566</td>\n",
       "      <td>0.015943</td>\n",
       "    </tr>\n",
       "    <tr>\n",
       "      <th>psi_14_1</th>\n",
       "      <td>0.032470</td>\n",
       "      <td>-0.087136</td>\n",
       "      <td>0.117475</td>\n",
       "      <td>0.116842</td>\n",
       "      <td>-0.019979</td>\n",
       "    </tr>\n",
       "    <tr>\n",
       "      <th>psi_23</th>\n",
       "      <td>0.050609</td>\n",
       "      <td>-0.091566</td>\n",
       "      <td>0.116842</td>\n",
       "      <td>0.179160</td>\n",
       "      <td>-0.038865</td>\n",
       "    </tr>\n",
       "    <tr>\n",
       "      <th>psi_24</th>\n",
       "      <td>-0.012973</td>\n",
       "      <td>0.015943</td>\n",
       "      <td>-0.019979</td>\n",
       "      <td>-0.038865</td>\n",
       "      <td>0.023023</td>\n",
       "    </tr>\n",
       "  </tbody>\n",
       "</table>\n",
       "</div>"
      ],
      "text/plain": [
       "            psi_13  psi_14_0  psi_14_1    psi_23    psi_24\n",
       "psi_13    0.020683 -0.020770  0.032470  0.050609 -0.012973\n",
       "psi_14_0 -0.020770  0.073261 -0.087136 -0.091566  0.015943\n",
       "psi_14_1  0.032470 -0.087136  0.117475  0.116842 -0.019979\n",
       "psi_23    0.050609 -0.091566  0.116842  0.179160 -0.038865\n",
       "psi_24   -0.012973  0.015943 -0.019979 -0.038865  0.023023"
      ]
     },
     "execution_count": 9,
     "metadata": {},
     "output_type": "execute_result"
    }
   ],
   "source": [
    "# C = delta inverse\n",
    "# delta = (1/N) * M * M' --> output of M x M matrix\n",
    "n = len(df)\n",
    "moment_vector = moments(theta_hat)\n",
    "delta_hat = (1 / n) * moment_vector.dot(moment_vector.T)\n",
    "c_hat  = np.linalg.inv(delta_hat)\n",
    "c_df = pd.DataFrame(data=c_hat, index=moment_list,columns=moment_list)\n",
    "c_df # optimal weight matrix"
   ]
  },
  {
   "cell_type": "markdown",
   "metadata": {},
   "source": [
    "# Part I"
   ]
  },
  {
   "cell_type": "markdown",
   "metadata": {},
   "source": [
    "Calculate the two-step GMM estimate by minimizing the objective function\n",
    "with the estimated weight function, and estimate the standard error."
   ]
  },
  {
   "cell_type": "markdown",
   "metadata": {},
   "source": [
    "#### New GMM Estimate (Theta hat)"
   ]
  },
  {
   "cell_type": "code",
   "execution_count": 10,
   "metadata": {},
   "outputs": [
    {
     "name": "stdout",
     "output_type": "stream",
     "text": [
      "0.9432548846098653\n"
     ]
    }
   ],
   "source": [
    "def obj_f_c(theta):\n",
    "    M = moments(theta)\n",
    "    M = M.sum(axis=1) / n\n",
    "    M_T = M.T\n",
    "    Q = np.sum((M_T.dot(c_hat)).dot(M))\n",
    "    return Q\n",
    "\n",
    "new_model = minimize(obj_f_c,theta_hat)\n",
    "\n",
    "new_theta_hat = new_model.x.item()\n",
    "print(new_theta_hat)"
   ]
  },
  {
   "cell_type": "markdown",
   "metadata": {},
   "source": [
    "#### Standard Error Estimate"
   ]
  },
  {
   "cell_type": "markdown",
   "metadata": {},
   "source": [
    "$\n",
    "\\sqrt{N}\\left(\\hat{\\theta}-\\theta_{0}\\right) \\stackrel{d}{\\rightarrow} N\\left(0,\\left(\\Gamma^{\\prime} C_{0} \\Gamma\\right)^{-1}\\left(\\Gamma^{\\prime} C_{0} \\Delta C_{0} \\Gamma\\right)\\left(\\Gamma^{\\prime} C_{0} \\Gamma\\right)^{-1}\\right)\n",
    "$"
   ]
  },
  {
   "cell_type": "code",
   "execution_count": 11,
   "metadata": {},
   "outputs": [
    {
     "name": "stdout",
     "output_type": "stream",
     "text": [
      "0.12208960498299896\n"
     ]
    }
   ],
   "source": [
    "new_moment_vector = moments(new_theta_hat)\n",
    "delta_hat = (1 / n) * new_moment_vector.dot(new_moment_vector.T)\n",
    "# c_hat  = np.linalg.inv(delta_hat)\n",
    "\n",
    "part_1 = np.linalg.inv((dM.T.dot(c_hat)).dot(dM))\n",
    "part_2 = (((dM.T.dot(c_hat)).dot(delta_hat)).dot(c_hat)).dot(dM)\n",
    "var = (1/n) * (part_1 * part_2 * part_1)\n",
    "std_err = var.item()**0.5\n",
    "print(std_err)"
   ]
  },
  {
   "cell_type": "code",
   "execution_count": null,
   "metadata": {},
   "outputs": [],
   "source": []
  },
  {
   "cell_type": "code",
   "execution_count": null,
   "metadata": {},
   "outputs": [],
   "source": []
  },
  {
   "cell_type": "code",
   "execution_count": null,
   "metadata": {},
   "outputs": [],
   "source": []
  },
  {
   "cell_type": "code",
   "execution_count": null,
   "metadata": {},
   "outputs": [],
   "source": []
  }
 ],
 "metadata": {
  "kernelspec": {
   "display_name": "Python 3",
   "language": "python",
   "name": "python3"
  },
  "language_info": {
   "codemirror_mode": {
    "name": "ipython",
    "version": 3
   },
   "file_extension": ".py",
   "mimetype": "text/x-python",
   "name": "python",
   "nbconvert_exporter": "python",
   "pygments_lexer": "ipython3",
   "version": "3.8.5"
  }
 },
 "nbformat": 4,
 "nbformat_minor": 4
}
